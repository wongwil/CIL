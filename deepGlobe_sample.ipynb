{
 "cells": [
  {
   "cell_type": "markdown",
   "metadata": {},
   "source": [
    "Make sure you you download the archive from https://www.kaggle.com/datasets/balraj98/deepglobe-road-extraction-dataset/code\n",
    "and rename the folder to DeepGlobe_Road_Extraction. This script samples images of that dataset, divides the image in 4 images, resizes the images to (400,400) and only keep the images that have a segmentation mask of over 7.5% roads and saves it into png format. Make sure\n",
    "you have the target folder DeepGlobeSampled and inside images and grountruth folder where the images are copied into."
   ]
  },
  {
   "cell_type": "code",
   "execution_count": 10,
   "metadata": {},
   "outputs": [
    {
     "name": "stdout",
     "output_type": "stream",
     "text": [
      "Requirement already satisfied: Pillow in c:\\users\\wongw\\appdata\\local\\programs\\python\\python311\\lib\\site-packages (10.0.0)\n"
     ]
    },
    {
     "name": "stderr",
     "output_type": "stream",
     "text": [
      "\n",
      "[notice] A new release of pip available: 22.3 -> 23.2\n",
      "[notice] To update, run: python.exe -m pip install --upgrade pip\n"
     ]
    }
   ],
   "source": [
    "!pip install Pillow"
   ]
  },
  {
   "cell_type": "code",
   "execution_count": 1,
   "metadata": {},
   "outputs": [
    {
     "name": "stdout",
     "output_type": "stream",
     "text": [
      "6226\n",
      "['934063_sat.jpg', '719559_sat.jpg', '941690_sat.jpg', '163227_sat.jpg', '234752_sat.jpg', '124319_sat.jpg', '938177_sat.jpg', '660195_sat.jpg', '159264_sat.jpg', '356160_sat.jpg']\n",
      "10\n"
     ]
    }
   ],
   "source": [
    "import os\n",
    "import random\n",
    "from PIL import Image\n",
    "os.getcwd()\n",
    "\n",
    "entries = os.listdir('DeepGlobe_Road_Extraction/train')\n",
    "entries = [string for string in entries if string.endswith(\"_sat.jpg\")]\n",
    "\n",
    "print(len(entries))\n",
    "\n",
    "#sampled_entries = ['934063_sat.jpg', '719559_sat.jpg', '941690_sat.jpg', '163227_sat.jpg', '234752_sat.jpg', '124319_sat.jpg', '938177_sat.jpg', '660195_sat.jpg', '159264_sat.jpg', '356160_sat.jpg']\n",
    "#sampled_entries = entries\n",
    "print(sampled_entries)\n",
    "print(len(sampled_entries))"
   ]
  },
  {
   "cell_type": "code",
   "execution_count": 2,
   "metadata": {},
   "outputs": [],
   "source": [
    "def split_in_quarters(image):\n",
    "    im1 = image.crop((0, 0, 512, 512)) # top left corner\n",
    "    im2 = image.crop((512, 0, 1024, 512)) # top right corner\n",
    "    im3 = image.crop((0, 512, 512, 1024)) # bottom left corner\n",
    "    im4 = image.crop((512, 512, 1024, 1024)) # bottom left corner\n",
    "\n",
    "    # put them into array\n",
    "\n",
    "    images = [im1, im2, im3, im4]\n",
    "    # resize them all to 400x400\n",
    "    for i in range(0, len(images)):\n",
    "        images[i] = images[i].resize((400,400))\n",
    "\n",
    "    return images"
   ]
  },
  {
   "cell_type": "code",
   "execution_count": 3,
   "metadata": {},
   "outputs": [
    {
     "name": "stdout",
     "output_type": "stream",
     "text": [
      "934063_sat.jpg\n",
      "(1024, 1024)\n",
      "(400, 400)\n"
     ]
    },
    {
     "data": {
      "text/plain": [
       "0"
      ]
     },
     "execution_count": 3,
     "metadata": {},
     "output_type": "execute_result"
    }
   ],
   "source": [
    "import numpy as np\n",
    "folder = 'DeepGlobe_Road_Extraction/train/'\n",
    "img_name = sampled_entries[0]\n",
    "print(img_name)\n",
    "id = img_name.split(\"_\")[0] # orignal shape (1024, 1024)\n",
    "\n",
    "mask_name = id + '_mask.png'\n",
    "\n",
    "img_path = folder + img_name\n",
    "img_path = os.path.join(os.getcwd(), img_path)\n",
    "\n",
    "mask_path = folder  + mask_name\n",
    "mask_path = os.path.join(os.getcwd(), mask_path)\n",
    "\n",
    "\n",
    "image = Image.open(img_path)\n",
    "#resized_image = image.resize((400, 400))\n",
    "\n",
    "images = split_in_quarters(image)\n",
    "\n",
    "mask = Image.open(mask_path)\n",
    "#resized_mask = mask.resize((400, 400))\n",
    "grey_mask = mask.convert('L')\n",
    "masks = split_in_quarters(grey_mask)\n",
    "\n",
    "np_img = np.asarray(grey_mask)\n",
    "print(np_img.shape)\n",
    "\n",
    "new_name = 'satimage_' + id + '.png'\n",
    "\n",
    "#resized_image.save('DeepGlobeSampled/images/' + new_name)\n",
    "#resized_mask.save('DeepGlobeSampled/groundtruth/' + new_name)\n",
    "print(images[0].size)\n",
    "masks[0].getpixel((1,1))"
   ]
  },
  {
   "cell_type": "code",
   "execution_count": 3,
   "metadata": {},
   "outputs": [],
   "source": [
    "def check_if_contains_road(mask):\n",
    "\n",
    "    width, height = mask.size\n",
    "    ctr = 0\n",
    "    threshold = 12000 # only keep ones with over average of our dataset, average is 28611\n",
    "    for y in range(height):\n",
    "        for x in range(width):\n",
    "            # Check if the pixel value is 255 (white)\n",
    "            if mask.getpixel((x, y)) == 255:\n",
    "                ctr += 1\n",
    "\n",
    "    if ctr >= threshold: # only return true if we are over threshold\n",
    "        return True\n",
    "    else:\n",
    "        return False\n",
    "    "
   ]
  },
  {
   "cell_type": "code",
   "execution_count": 4,
   "metadata": {},
   "outputs": [],
   "source": [
    "def binarize(masks):\n",
    "    binarized = []\n",
    "    threshold = 128 # put all pixels that are larger than 128 to 255, and smaller to 0\n",
    "    for mask in masks:\n",
    "        bin_mask = mask.point(lambda pixel: 0 if pixel < threshold else 255)\n",
    "        binarized.append(bin_mask)\n",
    "    \n",
    "    return binarized"
   ]
  },
  {
   "cell_type": "code",
   "execution_count": 8,
   "metadata": {},
   "outputs": [],
   "source": [
    "# takes about 2 min\n",
    "folder = 'DeepGlobe_Road_Extraction/train/'\n",
    "for img_name in sampled_entries:\n",
    "    id = img_name.split(\"_\")[0]\n",
    "\n",
    "    mask_name = id + '_mask.png'\n",
    "\n",
    "    img_path = folder + img_name\n",
    "    img_path = os.path.join(os.getcwd(), img_path)\n",
    "\n",
    "    mask_path = folder  + mask_name\n",
    "    mask_path = os.path.join(os.getcwd(), mask_path)\n",
    "\n",
    "\n",
    "    image = Image.open(img_path)\n",
    "    #resized_image = image.resize((400, 400))\n",
    "    images = split_in_quarters(image)\n",
    "\n",
    "    mask = Image.open(mask_path)\n",
    "    #resized_mask = mask.resize((400, 400))\n",
    "    resized_grey_mask = mask.convert('L') # convert it to grey scale and dont save colors\n",
    "    masks = split_in_quarters(resized_grey_mask)\n",
    "    masks = binarize(masks)\n",
    "    \n",
    "    for i in range(0, len(images)):\n",
    "        \n",
    "        if check_if_contains_road(masks[i]): # only save if mask has at least 20 pixels with roads\n",
    "            new_name = 'satimage_' + id + \"_\" + str(i) + '.png'\n",
    "\n",
    "            images[i].save('DeepGlobeSampled/images/' + new_name)\n",
    "            masks[i].save('DeepGlobeSampled/groundtruth/' + new_name)"
   ]
  },
  {
   "cell_type": "code",
   "execution_count": null,
   "metadata": {},
   "outputs": [],
   "source": []
  }
 ],
 "metadata": {
  "kernelspec": {
   "display_name": "Python 3",
   "language": "python",
   "name": "python3"
  },
  "language_info": {
   "codemirror_mode": {
    "name": "ipython",
    "version": 3
   },
   "file_extension": ".py",
   "mimetype": "text/x-python",
   "name": "python",
   "nbconvert_exporter": "python",
   "pygments_lexer": "ipython3",
   "version": "3.11.0"
  },
  "orig_nbformat": 4
 },
 "nbformat": 4,
 "nbformat_minor": 2
}
